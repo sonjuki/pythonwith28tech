{
 "cells": [
  {
   "cell_type": "markdown",
   "metadata": {},
   "source": [
    "# Đếm ước, tổng ước"
   ]
  },
  {
   "cell_type": "code",
   "execution_count": 6,
   "metadata": {},
   "outputs": [
    {
     "name": "stdout",
     "output_type": "stream",
     "text": [
      "9\n",
      "91\n"
     ]
    }
   ],
   "source": [
    "from math import*\n",
    "def dem(n):\n",
    "    cnt=0\n",
    "    for i in range(1,isqrt(n)+1):\n",
    "      if(n%i==0):\n",
    "        cnt+=1\n",
    "        if(n//i!=i):\n",
    "            cnt+=1\n",
    "    return cnt\n",
    "def tong(n):\n",
    "    sum=0\n",
    "    for i in range(1,isqrt(n)+1):\n",
    "        if(n%i==0):\n",
    "            sum+=i\n",
    "            if(n//i!=i):\n",
    "                sum+=n//i\n",
    "    return sum\n",
    "if __name__=='__main__':\n",
    "    n=int(input())\n",
    "    print(dem(n))\n",
    "    print(tong(n))\n",
    "    # 1 2 3 4 6 "
   ]
  },
  {
   "cell_type": "markdown",
   "metadata": {},
   "source": [
    "# Kiểm tra số nguyên tô"
   ]
  },
  {
   "cell_type": "code",
   "execution_count": 9,
   "metadata": {},
   "outputs": [
    {
     "name": "stdout",
     "output_type": "stream",
     "text": [
      "2 3 5 7 "
     ]
    }
   ],
   "source": [
    "from math import*\n",
    "def check(n):\n",
    "    for i in range(2,isqrt(n)+1):\n",
    "        if(n%i==0):\n",
    "            return False\n",
    "    return True\n",
    "if __name__ =='__main__':\n",
    "    n=int(input())\n",
    "    for i in range(2,n+1):\n",
    "        if(check(i)):\n",
    "            print(i,end=\" \")\n",
    "    "
   ]
  },
  {
   "cell_type": "markdown",
   "metadata": {},
   "source": [
    "# Phân tích thừa số nguyên tố"
   ]
  },
  {
   "cell_type": "code",
   "execution_count": 12,
   "metadata": {},
   "outputs": [
    {
     "name": "stdout",
     "output_type": "stream",
     "text": [
      "2 5\n"
     ]
    }
   ],
   "source": [
    "from math import*\n",
    "def pt(n):\n",
    "    for i in range(2,isqrt(n)+1):\n",
    "        if(n%i==0):\n",
    "            while n%i==0:\n",
    "                print(i,end=\" \")\n",
    "                n//=i\n",
    "    if(n>1): print(n)\n",
    "if __name__==\"__main__\":\n",
    "   n=int(input())\n",
    "   pt(n)"
   ]
  },
  {
   "cell_type": "markdown",
   "metadata": {},
   "source": [
    "# Tính fibo"
   ]
  },
  {
   "cell_type": "code",
   "execution_count": 15,
   "metadata": {},
   "outputs": [
    {
     "name": "stdout",
     "output_type": "stream",
     "text": [
      "8\n"
     ]
    }
   ],
   "source": [
    "def fibo(n):\n",
    "    if(n==0):return 0\n",
    "    if(n==1):return 1\n",
    "    return fibo(n-1)+fibo(n-2)\n",
    "if __name__==\"__main__\":\n",
    "    n=int(input())\n",
    "    print(fibo(n))\n"
   ]
  },
  {
   "cell_type": "markdown",
   "metadata": {},
   "source": [
    "# số đối xưng"
   ]
  },
  {
   "cell_type": "code",
   "execution_count": 19,
   "metadata": {},
   "outputs": [
    {
     "name": "stdout",
     "output_type": "stream",
     "text": [
      "True\n"
     ]
    }
   ],
   "source": [
    "def dx(n):\n",
    "    bandau=n\n",
    "    dx=0\n",
    "    while(n>0):\n",
    "        dx+=n%10\n",
    "        dx*=10\n",
    "        n//=10\n",
    "    dx//=10\n",
    "    return dx==bandau\n",
    "if __name__==\"__main__\":\n",
    "    n=int(input())\n",
    "    print(dx(n))"
   ]
  },
  {
   "cell_type": "markdown",
   "metadata": {},
   "source": [
    "# Số hoàn hảo"
   ]
  },
  {
   "cell_type": "code",
   "execution_count": 27,
   "metadata": {},
   "outputs": [
    {
     "name": "stdout",
     "output_type": "stream",
     "text": [
      "True\n"
     ]
    }
   ],
   "source": [
    "import math\n",
    "def check(n):\n",
    "    tong=0\n",
    "    for i in range(1,math.isqrt(n)+1):\n",
    "        if(n%i==0):\n",
    "            tong+=i\n",
    "            if(n//i!=i) and (i!=1):\n",
    "                tong+=n//i\n",
    "    return tong==n\n",
    "if __name__==\"__main__\":\n",
    "    n=int(input())\n",
    "    print(check(n))"
   ]
  }
 ],
 "metadata": {
  "kernelspec": {
   "display_name": "Python 3",
   "language": "python",
   "name": "python3"
  },
  "language_info": {
   "codemirror_mode": {
    "name": "ipython",
    "version": 3
   },
   "file_extension": ".py",
   "mimetype": "text/x-python",
   "name": "python",
   "nbconvert_exporter": "python",
   "pygments_lexer": "ipython3",
   "version": "3.13.0"
  }
 },
 "nbformat": 4,
 "nbformat_minor": 2
}
