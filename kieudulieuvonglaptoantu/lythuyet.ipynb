{
 "cells": [
  {
   "cell_type": "markdown",
   "metadata": {},
   "source": [
    "# Biến"
   ]
  },
  {
   "cell_type": "code",
   "execution_count": null,
   "metadata": {},
   "outputs": [],
   "source": [
    "\n",
    "b=100\n",
    "c='son'\n",
    "print(b,c)\n",
    "## đặt tên biến không chứa kí tự đặc biêt,tên nó phân biệt hoa thường\n",
    "dientich=100\n",
    "dienTich =300\n",
    "print(dientich,dienTich)\n",
    "d=50.0\n",
    "print(\"kieu du lieu bien d\",type(d))\n",
    "print(\"kieu du lieu bien b\",type(b))\n",
    "e=100-50j\n",
    "print(\"kieu du lieu bien e\",type(e))\n",
    "f=100032493249810213542345435435621\n",
    "print(\"kieu du lieu cua f\",type(f))\n",
    "## cách in ra sau bao nhiêu dấu phẩy\n",
    "a=28.051232\n",
    "print('%.2f'%a)\n",
    "print('{:.2f}'.format(a))\n",
    "A=4+5j\n",
    "print(A.real)\n",
    "print(a.imag)\n",
    "B=True\n",
    "print(type(B))\n",
    "C=100\n",
    "print(bool(C))\n",
    "s=\"dothaison\"\n",
    "t=\"\"\"python son\n",
    "pro\"\"\"\n",
    "print(t)\n",
    "## ép kiểu\n",
    "x='12344'\n",
    "y=int(x)\n",
    "print(type(y))\n",
    "X=123\n",
    "Y=str(X)\n",
    "print(type(Y))"
   ]
  },
  {
   "cell_type": "markdown",
   "metadata": {},
   "source": [
    "# Toán Tử Trong python"
   ]
  },
  {
   "cell_type": "code",
   "execution_count": null,
   "metadata": {},
   "outputs": [],
   "source": [
    "a=100\n",
    "b=a\n",
    "print(b)#b=100"
   ]
  },
  {
   "cell_type": "code",
   "execution_count": null,
   "metadata": {},
   "outputs": [],
   "source": [
    "a,b,c=100,200,300\n",
    "print(a,b,c)"
   ]
  },
  {
   "cell_type": "code",
   "execution_count": null,
   "metadata": {},
   "outputs": [],
   "source": [
    "a,s=100,'son'\n",
    "print(a,s)"
   ]
  },
  {
   "cell_type": "code",
   "execution_count": null,
   "metadata": {},
   "outputs": [],
   "source": [
    "a=300\n",
    "b=200\n",
    "tong=a+b\n",
    "chia=a/b\n",
    "laynguyen=a//b\n",
    "chiadu=a%b\n",
    "luythua=a**2\n",
    "print(tong,chia,laynguyen,chiadu,luythua)\n"
   ]
  },
  {
   "cell_type": "code",
   "execution_count": null,
   "metadata": {},
   "outputs": [],
   "source": [
    "print(100<=200)"
   ]
  },
  {
   "cell_type": "code",
   "execution_count": null,
   "metadata": {},
   "outputs": [
    {
     "name": "stdout",
     "output_type": "stream",
     "text": [
      "True\n",
      "True\n"
     ]
    }
   ],
   "source": [
    "x=50\n",
    "print((x>20)and(x<100))\n",
    "print((x>100)or(x<90))"
   ]
  },
  {
   "cell_type": "code",
   "execution_count": null,
   "metadata": {},
   "outputs": [
    {
     "name": "stdout",
     "output_type": "stream",
     "text": [
      "True\n",
      "1875761498560\n",
      "1875761503872\n",
      "False\n"
     ]
    }
   ],
   "source": [
    "a=[1,2,3]\n",
    "b=[1,2,3]\n",
    "print(a==b)\n",
    "print(id(a))\n",
    "print(id(b))\n",
    "print(a is b)"
   ]
  },
  {
   "cell_type": "code",
   "execution_count": null,
   "metadata": {},
   "outputs": [
    {
     "name": "stdout",
     "output_type": "stream",
     "text": [
      "True\n",
      "False\n"
     ]
    }
   ],
   "source": [
    "s='đỗ thái sơn no pro AI'\n",
    "print('đỗ thái sơn' in s)\n",
    "print('sọnuki'in s)"
   ]
  },
  {
   "cell_type": "code",
   "execution_count": null,
   "metadata": {},
   "outputs": [
    {
     "name": "stdout",
     "output_type": "stream",
     "text": [
      "118.58 785.80\n"
     ]
    }
   ],
   "source": [
    "a,b=20,39.29\n",
    "chuvi=(a+b)*2\n",
    "dientich=a*b\n",
    "print('{:.2f}'.format(chuvi),'%0.2f'%dientich)"
   ]
  },
  {
   "cell_type": "markdown",
   "metadata": {},
   "source": [
    "# Nhập dữ liệu từ bàn phím  bẳng hàm input,map"
   ]
  },
  {
   "cell_type": "code",
   "execution_count": 5,
   "metadata": {},
   "outputs": [
    {
     "name": "stdout",
     "output_type": "stream",
     "text": [
      "<class 'str'>\n",
      "ạ\n"
     ]
    }
   ],
   "source": [
    "n=input('nhap so :')\n",
    "print(type(n))\n",
    "print(n)"
   ]
  },
  {
   "cell_type": "code",
   "execution_count": 6,
   "metadata": {},
   "outputs": [
    {
     "name": "stdout",
     "output_type": "stream",
     "text": [
      "<class 'int'>\n",
      "1\n",
      "2.4\n"
     ]
    }
   ],
   "source": [
    "n=int(input('nhap so :'))\n",
    "print(type(n))\n",
    "print(n)\n",
    "p=float(input(\"nhap số thực :\"))\n",
    "print(p)"
   ]
  },
  {
   "cell_type": "code",
   "execution_count": 11,
   "metadata": {},
   "outputs": [
    {
     "name": "stdout",
     "output_type": "stream",
     "text": [
      "600 100 200 300\n"
     ]
    }
   ],
   "source": [
    "#bước 1: nhap\n",
    "s=input('nhap 3 số: ')\n",
    "#bước 2: tách các số ra\n",
    "a=s.split()\n",
    "#bước 3: su dụng hàm map de ep các phần tử trong list =>sang kiẻu mong muốn\n",
    "x,y,z=map(int, a)\n",
    "print(x+y+z,x,y,z)"
   ]
  },
  {
   "cell_type": "code",
   "execution_count": null,
   "metadata": {},
   "outputs": [
    {
     "name": "stdout",
     "output_type": "stream",
     "text": [
      "1 2\n"
     ]
    }
   ],
   "source": [
    "##nhập nhiều số\n",
    "a,b=map(int,input('nhap 2 so nguyen: ').split())\n",
    "print(a,b)\n"
   ]
  },
  {
   "cell_type": "markdown",
   "metadata": {},
   "source": [
    "# Các Hàm Phổ Biến Trong Python"
   ]
  },
  {
   "cell_type": "code",
   "execution_count": null,
   "metadata": {},
   "outputs": [],
   "source": [
    "import math\n",
    "print(help(math))"
   ]
  },
  {
   "cell_type": "code",
   "execution_count": 2,
   "metadata": {},
   "outputs": [
    {
     "name": "stdout",
     "output_type": "stream",
     "text": [
      "6.0\n"
     ]
    }
   ],
   "source": [
    "import math\n",
    "#sqrt: square root\n",
    "print(math.sqrt(36))"
   ]
  },
  {
   "cell_type": "code",
   "execution_count": 6,
   "metadata": {},
   "outputs": [
    {
     "name": "stdout",
     "output_type": "stream",
     "text": [
      "6.0\n",
      "5\n",
      "1024.0\n",
      "4\n",
      "2\n",
      "120\n",
      "3\n",
      "45\n",
      "3\n",
      "9\n",
      "10\n"
     ]
    }
   ],
   "source": [
    "from math import *\n",
    "print(sqrt(36))\n",
    "#isqrt: interger square root\n",
    "print(isqrt(35))\n",
    "#pow: power\n",
    "print(pow(2,10))\n",
    "#ceil làm tròn lên \n",
    "print(ceil(3.2))\n",
    "#floor: làm tròn xuống\n",
    "print(floor(2.8))\n",
    "#factorial: giai thua\n",
    "print(factorial(5))\n",
    "#gcd: ước chung lớn nhất\n",
    "print(gcd(39,21))\n",
    "#comb: tổ hợp\n",
    "print(comb(10,2))\n",
    "#round: làm tròn lên hoặc xuống\n",
    "print(round(3.2))\n",
    "print(max(1,2,9,0))\n",
    "print(sum([1,2,3,4]))"
   ]
  },
  {
   "cell_type": "markdown",
   "metadata": {},
   "source": [
    "# Cấu Trúc if else"
   ]
  },
  {
   "cell_type": "code",
   "execution_count": null,
   "metadata": {},
   "outputs": [
    {
     "name": "stdout",
     "output_type": "stream",
     "text": [
      "son pro\n",
      "đúng nè\n",
      "cách dùng else if\n"
     ]
    }
   ],
   "source": [
    "if 100>10:\n",
    "    print(\"son pro\")\n",
    "n=61\n",
    "if n>50 and n<=100:\n",
    "    print(\"đúng nè\")\n",
    "if n%2==0:\n",
    "    print(\"chan\")\n",
    "elif n%1==0:\n",
    "    print(\"cách dùng else if\")\n",
    "else: \n",
    "    print(\"le\")\n",
    "# toán tử 3 ngôi\n",
    "a,b=100,200\n",
    "res=\"son\"if a<b else \"juki\"\n",
    "print(res)\n",
    "#kiểm tra n có phải là số lớn hơn hoặc bằng 50 và chia hết cho 3 5 7\n",
    "n=80\n",
    "if n>=50:\n",
    "    if n%3==0 or n%7==0 or n%7==0:\n",
    "      print(\"yes\")\n",
    "    else: print(\"no\")\n",
    "else: print(\"no\")"
   ]
  },
  {
   "cell_type": "markdown",
   "metadata": {},
   "source": [
    "# Vong Lap"
   ]
  },
  {
   "cell_type": "code",
   "execution_count": 4,
   "metadata": {},
   "outputs": [
    {
     "name": "stdout",
     "output_type": "stream",
     "text": [
      "1 3 5 7 9 "
     ]
    }
   ],
   "source": [
    "a=range(1,10,2)\n",
    "for i in a:\n",
    "    print(i,end=' ')"
   ]
  },
  {
   "cell_type": "code",
   "execution_count": null,
   "metadata": {},
   "outputs": [],
   "source": [
    "#duyeet cac so tu 1 den 50\n",
    "for i in range(1,51):\n",
    "    print(i, end=\" \")\n",
    "for i in range(1,51):\n",
    "    print(i, \"sonjuki\")"
   ]
  },
  {
   "cell_type": "code",
   "execution_count": 7,
   "metadata": {},
   "outputs": [
    {
     "name": "stdout",
     "output_type": "stream",
     "text": [
      "120\n"
     ]
    }
   ],
   "source": [
    "n=5\n",
    "s=1\n",
    "for i in range(1,n+1):\n",
    "    s*=i\n",
    "print(s)\n"
   ]
  },
  {
   "cell_type": "code",
   "execution_count": 9,
   "metadata": {},
   "outputs": [
    {
     "name": "stdout",
     "output_type": "stream",
     "text": [
      "0 son 1 son 2 son 3 ket thuc\n"
     ]
    }
   ],
   "source": [
    "for i in range(5):\n",
    "    print(i,end=\" \")\n",
    "    if i==3:break\n",
    "    print(\"son\",end=\" \")\n",
    "print(\"ket thuc\")\n"
   ]
  },
  {
   "cell_type": "code",
   "execution_count": 10,
   "metadata": {},
   "outputs": [
    {
     "name": "stdout",
     "output_type": "stream",
     "text": [
      "son\n",
      "son\n",
      "son\n",
      "son\n",
      "son\n"
     ]
    }
   ],
   "source": [
    "for i in range(5):\n",
    "    print(\"son\")\n",
    "    continue \n",
    "    print(\"hihi\")"
   ]
  },
  {
   "cell_type": "code",
   "execution_count": 11,
   "metadata": {},
   "outputs": [
    {
     "name": "stdout",
     "output_type": "stream",
     "text": [
      "vong lap ngoai i= 0\n",
      "0 0\n",
      "0 1\n",
      "vong lap ngoai i= 1\n",
      "1 0\n",
      "1 1\n",
      "vong lap ngoai i= 2\n",
      "2 0\n",
      "2 1\n"
     ]
    }
   ],
   "source": [
    "for i in range(3):\n",
    "    print(\"vong lap ngoai i=\",i)\n",
    "    for j in range(2):\n",
    "        print(i,j)"
   ]
  },
  {
   "cell_type": "markdown",
   "metadata": {},
   "source": [
    "# Vong lap while"
   ]
  },
  {
   "cell_type": "code",
   "execution_count": 13,
   "metadata": {},
   "outputs": [
    {
     "name": "stdout",
     "output_type": "stream",
     "text": [
      "vong lap tuong ung khi n= 1\n",
      "vong lap tuong ung khi n= 2\n",
      "vong lap tuong ung khi n= 3\n",
      "vong lap tuong ung khi n= 4\n",
      "vong lap tuong ung khi n= 5\n"
     ]
    }
   ],
   "source": [
    "n=1\n",
    "while n<=5:\n",
    "    print(\"vong lap tuong ung khi n=\",n)\n",
    "    n+=1"
   ]
  },
  {
   "cell_type": "code",
   "execution_count": 14,
   "metadata": {},
   "outputs": [
    {
     "name": "stdout",
     "output_type": "stream",
     "text": [
      "vong lap tuong ung khi n= 1\n",
      "vong lap tuong ung khi n= 2\n",
      "vong lap tuong ung khi n= 3\n",
      "vong lap tuong ung khi n= 4\n",
      "vong lap tuong ung khi n= 5\n",
      "vong lap while ket thuc khi n= 6\n"
     ]
    }
   ],
   "source": [
    "n=1\n",
    "while n<=5:\n",
    "    print(\"vong lap tuong ung khi n=\",n)\n",
    "    n+=1\n",
    "else:\n",
    "    print(\"vong lap while ket thuc khi n=\",n)"
   ]
  },
  {
   "cell_type": "markdown",
   "metadata": {},
   "source": [
    "# Cách Viết Hàm"
   ]
  },
  {
   "cell_type": "code",
   "execution_count": null,
   "metadata": {},
   "outputs": [
    {
     "name": "stdout",
     "output_type": "stream",
     "text": [
      "30\n"
     ]
    }
   ],
   "source": [
    "def tong(a,b):\n",
    "    res=a+b\n",
    "    return res\n",
    "m,n=20,10\n",
    "print(tong(m,n)) #Đối Số = tham số chính = agument"
   ]
  },
  {
   "cell_type": "code",
   "execution_count": null,
   "metadata": {},
   "outputs": [
    {
     "name": "stdout",
     "output_type": "stream",
     "text": [
      "xin chao son do thai\n",
      "xin chao son do thai\n"
     ]
    }
   ],
   "source": [
    "def xinchao(name1,name2,name3):\n",
    "    print(\"xin chao\",name1,name2,name3)\n",
    "xinchao(\"son\",\"do\",\"thai\")#position argument\n",
    "# code để chạy chương trình\n",
    "if __name__ =='__main__':\n",
    " #code\n",
    "  xinchao(\"son\",\"do\",\"thai\")"
   ]
  },
  {
   "cell_type": "code",
   "execution_count": null,
   "metadata": {},
   "outputs": [],
   "source": [
    "def print(a,b,c):\n",
    "    print(a,b,c)\n",
    "print(1,2,3)\n",
    "print(3,2,1 )\n"
   ]
  },
  {
   "cell_type": "code",
   "execution_count": null,
   "metadata": {},
   "outputs": [
    {
     "name": "stdout",
     "output_type": "stream",
     "text": [
      "xin chao 0 5 1\n"
     ]
    }
   ],
   "source": [
    "def xinchao(name1,name2,name3):\n",
    "    print(\"xin chao\",name1,name2,name3)\n",
    "if __name__=='__main__':\n",
    "    xinchao(name3=1,name2=5,name1=0)#keyword argument"
   ]
  },
  {
   "cell_type": "code",
   "execution_count": 6,
   "metadata": {},
   "outputs": [
    {
     "name": "stdout",
     "output_type": "stream",
     "text": [
      "28tach dev\n",
      "28tach xe om\n"
     ]
    }
   ],
   "source": [
    "def infor(name,job=\"xe om\"):\n",
    "    print(name,job)\n",
    "if __name__=='__main__':\n",
    "    infor(\"28tach\",\"dev\")\n",
    "    infor(\"28tach\")"
   ]
  },
  {
   "cell_type": "markdown",
   "metadata": {},
   "source": [
    "# Đệ quy"
   ]
  },
  {
   "cell_type": "code",
   "execution_count": 1,
   "metadata": {},
   "outputs": [
    {
     "name": "stdout",
     "output_type": "stream",
     "text": [
      "15\n"
     ]
    }
   ],
   "source": [
    "def s(n):\n",
    "    if n==0:\n",
    "        return 0\n",
    "    else: return n+s(n-1)\n",
    "if __name__=='__main__':\n",
    "    n=int(input())\n",
    "    print(s(n))"
   ]
  },
  {
   "cell_type": "code",
   "execution_count": 6,
   "metadata": {},
   "outputs": [
    {
     "name": "stdout",
     "output_type": "stream",
     "text": [
      "25\n"
     ]
    }
   ],
   "source": [
    "def pow(a,n):\n",
    "    if(n==0): return 1\n",
    "    tmp=pow(a,n/2)\n",
    "    tmp*=tmp\n",
    "    if(n%2==1):\n",
    "        tmp*=a\n",
    "    return tmp\n",
    "if __name__=='__main__':\n",
    "    a,n=map(int,input().split())\n",
    "    print(pow(a,n))\n"
   ]
  }
 ],
 "metadata": {
  "kernelspec": {
   "display_name": "Python 3",
   "language": "python",
   "name": "python3"
  },
  "language_info": {
   "codemirror_mode": {
    "name": "ipython",
    "version": 3
   },
   "file_extension": ".py",
   "mimetype": "text/x-python",
   "name": "python",
   "nbconvert_exporter": "python",
   "pygments_lexer": "ipython3",
   "version": "3.13.0"
  }
 },
 "nbformat": 4,
 "nbformat_minor": 2
}
