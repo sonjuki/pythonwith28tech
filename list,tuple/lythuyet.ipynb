{
 "cells": [
  {
   "cell_type": "markdown",
   "metadata": {},
   "source": [
    "# Phạm vi của biến trong python"
   ]
  },
  {
   "cell_type": "code",
   "execution_count": 1,
   "metadata": {},
   "outputs": [
    {
     "name": "stdout",
     "output_type": "stream",
     "text": [
      "2021\n"
     ]
    }
   ],
   "source": [
    "def printmun():\n",
    "    x=2021 #local scope\n",
    "    print(x)\n",
    "printmun()\n",
    "# nó được xoá khi hàm của nó kết thúc\n"
   ]
  },
  {
   "cell_type": "code",
   "execution_count": 2,
   "metadata": {},
   "outputs": [
    {
     "name": "stdout",
     "output_type": "stream",
     "text": [
      "2021\n"
     ]
    }
   ],
   "source": [
    "x=212# biến toàn cục\n",
    "def printnum():\n",
    "    print(x)\n",
    "printmun()"
   ]
  },
  {
   "cell_type": "code",
   "execution_count": 3,
   "metadata": {},
   "outputs": [
    {
     "name": "stdout",
     "output_type": "stream",
     "text": [
      "1000\n",
      "2021\n"
     ]
    }
   ],
   "source": [
    "#enclosing scope: khi khai báo 2 biến có cùng tên \n",
    "# ở trong 2 hàm thì 2 biến này có phạm vi khác nhau\n",
    "def outer():\n",
    "    x=2021\n",
    "    def inner():\n",
    "        x=1000\n",
    "        print(x)\n",
    "    inner()\n",
    "    print(x)\n",
    "outer()"
   ]
  },
  {
   "cell_type": "code",
   "execution_count": 4,
   "metadata": {},
   "outputs": [
    {
     "name": "stdout",
     "output_type": "stream",
     "text": [
      "1000\n",
      "1000\n"
     ]
    }
   ],
   "source": [
    "# sử dụng nonlocal để tránh python tạo 1 biến khác cùng tên \n",
    "# trong hàm inner\n",
    "def outer():\n",
    "    x=2012\n",
    "    def inner():\n",
    "        nonlocal x\n",
    "        x=1000\n",
    "        print(x)\n",
    "    inner()\n",
    "    print(x)\n",
    "outer()\n"
   ]
  },
  {
   "cell_type": "markdown",
   "metadata": {},
   "source": [
    "# Lí thuyết về list"
   ]
  },
  {
   "cell_type": "code",
   "execution_count": 5,
   "metadata": {},
   "outputs": [
    {
     "name": "stdout",
     "output_type": "stream",
     "text": [
      "[1, 2, 3, 4, 'python']\n",
      "<class 'list'>\n"
     ]
    }
   ],
   "source": [
    " # list các số nguyên\n",
    "a=[1,2,3,4,\"python\"]\n",
    "print(a)\n",
    "print(type(a))"
   ]
  },
  {
   "cell_type": "code",
   "execution_count": 6,
   "metadata": {},
   "outputs": [
    {
     "name": "stdout",
     "output_type": "stream",
     "text": [
      "['2', '8', 't', 'e', 'c', 'h']\n"
     ]
    }
   ],
   "source": [
    "s='28tech'#iterable\n",
    "a=list(s)# tạo list từ s\n",
    "print(a)\n"
   ]
  },
  {
   "cell_type": "code",
   "execution_count": 7,
   "metadata": {},
   "outputs": [
    {
     "name": "stdout",
     "output_type": "stream",
     "text": [
      "5\n"
     ]
    }
   ],
   "source": [
    "a=[1,2,3,4,5]\n",
    "print(len(a))"
   ]
  },
  {
   "cell_type": "code",
   "execution_count": 8,
   "metadata": {},
   "outputs": [
    {
     "name": "stdout",
     "output_type": "stream",
     "text": [
      "1\n",
      "python\n"
     ]
    }
   ],
   "source": [
    "a=[1,2,3,4,\"python\"]\n",
    "print(a[0])\n",
    "print(a[-1])"
   ]
  },
  {
   "cell_type": "code",
   "execution_count": 9,
   "metadata": {},
   "outputs": [
    {
     "name": "stdout",
     "output_type": "stream",
     "text": [
      "1 2 4 5 son \n",
      "son 5 4 2 1 \n",
      "1 2 4 5 son "
     ]
    }
   ],
   "source": [
    "# duyệt có 2 cách\n",
    "# cách 1\n",
    "a=[1,2,4,5,\"son\"]\n",
    "for i in range(len(a)):\n",
    "    print(a[i],end=\" \")\n",
    "print()\n",
    "for i in range(-1,len(a)*-1-1,-1):\n",
    "    print(a[i], end=\" \")\n",
    "print()\n",
    "# cách 2\n",
    "for item in a:\n",
    "    print(item, end=\" \")"
   ]
  },
  {
   "cell_type": "code",
   "execution_count": 10,
   "metadata": {},
   "outputs": [
    {
     "name": "stdout",
     "output_type": "stream",
     "text": [
      "[1, 2, 'son', 4]\n"
     ]
    }
   ],
   "source": [
    "a=[1,2,3,4]\n",
    "a[2]=\"son\"\n",
    "print(a)"
   ]
  },
  {
   "cell_type": "code",
   "execution_count": 11,
   "metadata": {},
   "outputs": [
    {
     "name": "stdout",
     "output_type": "stream",
     "text": [
      "[1, 2, 3, 4, 10]\n",
      "[1, 'sao', 2, 3, 4, 10]\n"
     ]
    }
   ],
   "source": [
    "a=[1,2,3,4]\n",
    "a.append(10)\n",
    "print(a)\n",
    "a.insert(1,\"sao\")\n",
    "print(a)"
   ]
  },
  {
   "cell_type": "code",
   "execution_count": 12,
   "metadata": {},
   "outputs": [
    {
     "name": "stdout",
     "output_type": "stream",
     "text": [
      "[1, 3, 4]\n",
      "[1, 3]\n",
      "[3]\n"
     ]
    }
   ],
   "source": [
    "a=[1,2,3,4]\n",
    "a.pop(1)\n",
    "print(a)\n",
    "a.pop()\n",
    "print(a)\n",
    "del a[0]\n",
    "print(a)\n"
   ]
  },
  {
   "cell_type": "code",
   "execution_count": 13,
   "metadata": {},
   "outputs": [
    {
     "name": "stdout",
     "output_type": "stream",
     "text": [
      "[1, 2, 4, 1, 2, 4]\n"
     ]
    }
   ],
   "source": [
    "# sao chép list\n",
    "a=[1,2,4]\n",
    "b=a*2\n",
    "print(b)"
   ]
  },
  {
   "cell_type": "code",
   "execution_count": 14,
   "metadata": {},
   "outputs": [
    {
     "name": "stdout",
     "output_type": "stream",
     "text": [
      "yes\n"
     ]
    }
   ],
   "source": [
    "# tìm kiếm\n",
    "a=[\"apple\",\"face\",\"gogole\"]\n",
    "if \"apple\" in a:\n",
    "    print(\"yes\")\n"
   ]
  },
  {
   "cell_type": "code",
   "execution_count": 15,
   "metadata": {},
   "outputs": [
    {
     "name": "stdout",
     "output_type": "stream",
     "text": [
      "[1, 2, 3, 4, 5, 6]\n",
      "[1, 2, 3, 4, 5, 6, 4, 5, 6]\n"
     ]
    }
   ],
   "source": [
    "# nối list\n",
    "a=[1,2,3]\n",
    "b=[4,5,6]\n",
    "a.extend(b)\n",
    "print(a)\n",
    "a+=b\n",
    "print(a)"
   ]
  },
  {
   "cell_type": "code",
   "execution_count": 16,
   "metadata": {},
   "outputs": [
    {
     "name": "stdout",
     "output_type": "stream",
     "text": [
      "True\n",
      "[1, 2, 3]\n",
      "True\n",
      "False\n"
     ]
    }
   ],
   "source": [
    "# hàm coppy\n",
    "a=[1,2,3]\n",
    "b=a\n",
    "print(a is b)\n",
    "c=a.copy()\n",
    "print(c)\n",
    "print(c==a)\n",
    "print(c is a)"
   ]
  },
  {
   "cell_type": "code",
   "execution_count": 17,
   "metadata": {},
   "outputs": [
    {
     "name": "stdout",
     "output_type": "stream",
     "text": [
      "2\n",
      "2\n",
      "[1, 4, 2, 1]\n",
      "[1, 1, 2, 4]\n"
     ]
    }
   ],
   "source": [
    "a=[1,2,4,1]\n",
    "print(a.count(1))\n",
    "print(a.index(4))\n",
    "a.reverse()\n",
    "print(a)\n",
    "a.sort()\n",
    "print(a)"
   ]
  },
  {
   "cell_type": "markdown",
   "metadata": {},
   "source": [
    "# coppy list va list lam tham so cho ham"
   ]
  },
  {
   "cell_type": "code",
   "execution_count": 18,
   "metadata": {},
   "outputs": [
    {
     "name": "stdout",
     "output_type": "stream",
     "text": [
      "[1, 2, 3, 4]\n",
      "[1000, 2, 3, 4]\n",
      "1955148179456\n",
      "1955148149824\n"
     ]
    }
   ],
   "source": [
    "a=[1,2,3,4]\n",
    "b=a.copy()\n",
    "b[0]=1000\n",
    "print(a)\n",
    "print(b)\n",
    "print(id(a))\n",
    "print(id(b))\n"
   ]
  },
  {
   "cell_type": "code",
   "execution_count": 19,
   "metadata": {},
   "outputs": [
    {
     "name": "stdout",
     "output_type": "stream",
     "text": [
      "[1000, 2, 3, 4]\n"
     ]
    }
   ],
   "source": [
    "def change(arr):\n",
    "    arr[0]=1000\n",
    "a=[1,2,3,4]\n",
    "change(a)\n",
    "print(a)"
   ]
  },
  {
   "cell_type": "markdown",
   "metadata": {},
   "source": [
    "# List sclicing\n"
   ]
  },
  {
   "cell_type": "code",
   "execution_count": 20,
   "metadata": {},
   "outputs": [
    {
     "name": "stdout",
     "output_type": "stream",
     "text": [
      "[30, 40, 50]\n"
     ]
    }
   ],
   "source": [
    "#a[start:top:step]\n",
    "a=[10,20,30,40,50,50]\n",
    "b=a[2:5:1]\n",
    "print(b)"
   ]
  },
  {
   "cell_type": "code",
   "execution_count": 21,
   "metadata": {},
   "outputs": [
    {
     "name": "stdout",
     "output_type": "stream",
     "text": [
      "[5, 7, 4]\n"
     ]
    }
   ],
   "source": [
    "a=[2,3,1,5,7,4,3]\n",
    "b=a[-4:-1]\n",
    "print(b)"
   ]
  },
  {
   "cell_type": "code",
   "execution_count": 22,
   "metadata": {},
   "outputs": [
    {
     "name": "stdout",
     "output_type": "stream",
     "text": [
      "['son', 4, 2]\n"
     ]
    }
   ],
   "source": [
    "# lật ngược list\n",
    "a=[2,4,\"son\"]\n",
    "b=a[::-1]\n",
    "print(b)"
   ]
  },
  {
   "cell_type": "code",
   "execution_count": 23,
   "metadata": {},
   "outputs": [
    {
     "name": "stdout",
     "output_type": "stream",
     "text": [
      "[1, 2, 100, 100, 2]\n"
     ]
    }
   ],
   "source": [
    "a=[1,2,3,5,6,2]\n",
    "a[2:5]=[100,100]\n",
    "print(a)"
   ]
  },
  {
   "cell_type": "code",
   "execution_count": 24,
   "metadata": {},
   "outputs": [
    {
     "name": "stdout",
     "output_type": "stream",
     "text": [
      "[10, 20, 30, 'x', 'y', 'z']\n"
     ]
    }
   ],
   "source": [
    "#thêm vào đầu list\n",
    "a=['x','y','z']\n",
    "a[:0]=[10,20,30]\n",
    "print(a)"
   ]
  },
  {
   "cell_type": "code",
   "execution_count": 25,
   "metadata": {},
   "outputs": [
    {
     "name": "stdout",
     "output_type": "stream",
     "text": [
      "['x', 'y', 'z', 10, 20, 30]\n"
     ]
    }
   ],
   "source": [
    "#thêm vào cuối\n",
    "a=['x','y','z']\n",
    "a[len(a):]=[10,20,30]\n",
    "print(a)"
   ]
  },
  {
   "cell_type": "code",
   "execution_count": 26,
   "metadata": {},
   "outputs": [
    {
     "name": "stdout",
     "output_type": "stream",
     "text": [
      "['x', 'z']\n"
     ]
    }
   ],
   "source": [
    "#xoá các phần tử\n",
    "a=['x','y','z']\n",
    "a[1:2]=[]\n",
    "print(a)"
   ]
  },
  {
   "cell_type": "code",
   "execution_count": 27,
   "metadata": {},
   "outputs": [
    {
     "name": "stdout",
     "output_type": "stream",
     "text": [
      "['x', 'y', 'z']\n",
      "['z', 'y', 'x']\n",
      "True\n",
      "False\n"
     ]
    }
   ],
   "source": [
    "#deep copy\n",
    "a=['x','y','z']\n",
    "b=a[:]\n",
    "c=a[::-1]\n",
    "print(b)\n",
    "print(c)\n",
    "print(b==a)\n",
    "print(b is a)"
   ]
  },
  {
   "cell_type": "markdown",
   "metadata": {},
   "source": [
    "# Hàm lambda"
   ]
  },
  {
   "cell_type": "code",
   "execution_count": 1,
   "metadata": {},
   "outputs": [
    {
     "name": "stdout",
     "output_type": "stream",
     "text": [
      "20\n",
      "20\n"
     ]
    }
   ],
   "source": [
    "# xây dựng hàm\n",
    "def fucion(n):\n",
    "    return 2*n\n",
    "print(fucion(10))\n",
    "# hàm lambda\n",
    "func=lambda x:x*2\n",
    "print(func(10))\n"
   ]
  },
  {
   "cell_type": "code",
   "execution_count": 3,
   "metadata": {},
   "outputs": [
    {
     "name": "stdout",
     "output_type": "stream",
     "text": [
      "100\n",
      "600\n"
     ]
    }
   ],
   "source": [
    "res=(lambda x:x**2)(10)\n",
    "print(res)\n",
    "fuc=lambda x,y,z:x+y+z\n",
    "print(fuc(100,200,300))"
   ]
  },
  {
   "cell_type": "code",
   "execution_count": 4,
   "metadata": {},
   "outputs": [
    {
     "name": "stdout",
     "output_type": "stream",
     "text": [
      "[2, 4, 6, 8, 10]\n"
     ]
    }
   ],
   "source": [
    "a=[1,2,3,4,5]\n",
    "b=list(map(lambda x:x*2,a))\n",
    "print(b)"
   ]
  },
  {
   "cell_type": "markdown",
   "metadata": {},
   "source": [
    "# list comprehention\n"
   ]
  },
  {
   "cell_type": "code",
   "execution_count": 1,
   "metadata": {},
   "outputs": [
    {
     "name": "stdout",
     "output_type": "stream",
     "text": [
      "[4, 5, 6, 7, 8, 9, 10, 11]\n"
     ]
    }
   ],
   "source": [
    "a=[1,2,3,4,5,6,7,8]\n",
    "b=[x+3 for x in a]\n",
    "print(b)"
   ]
  },
  {
   "cell_type": "code",
   "execution_count": 2,
   "metadata": {},
   "outputs": [
    {
     "name": "stdout",
     "output_type": "stream",
     "text": [
      "[1, 4, 9, 16, 25, 36, 49, 64, 81, 100]\n"
     ]
    }
   ],
   "source": [
    "c=[x**2 for x in range(1,11)]\n",
    "print(c)"
   ]
  },
  {
   "cell_type": "code",
   "execution_count": 3,
   "metadata": {},
   "outputs": [
    {
     "name": "stdout",
     "output_type": "stream",
     "text": [
      "[1, 3, 5, 7, 9]\n"
     ]
    }
   ],
   "source": [
    "a=[1,2,3,4,5,6,7,8,9,10]\n",
    "b=[x for x in a if x%2==1] \n",
    "print(b)"
   ]
  },
  {
   "cell_type": "code",
   "execution_count": 5,
   "metadata": {},
   "outputs": [
    {
     "name": "stdout",
     "output_type": "stream",
     "text": [
      "[1, 2, 3, 4, 5, 6, 7, 8, 9]\n"
     ]
    }
   ],
   "source": [
    "a=[[1,2,3],[4,5,6],[7,8,9]]\n",
    "b=[x for small_list in a for x in small_list]\n",
    "print(b)"
   ]
  },
  {
   "cell_type": "markdown",
   "metadata": {},
   "source": [
    "# Unpacking"
   ]
  },
  {
   "cell_type": "code",
   "execution_count": 6,
   "metadata": {},
   "outputs": [
    {
     "name": "stdout",
     "output_type": "stream",
     "text": [
      "1 2 3\n"
     ]
    }
   ],
   "source": [
    "#unpacking với list\n",
    "a=[1,2,3]\n",
    "x,y,z=a\n",
    "print(x,y,z)"
   ]
  },
  {
   "cell_type": "code",
   "execution_count": 11,
   "metadata": {},
   "outputs": [
    {
     "name": "stdout",
     "output_type": "stream",
     "text": [
      "DO THAI\n",
      "DO THAI\n"
     ]
    }
   ],
   "source": [
    "#unpacking với tuple\n",
    "data=[\"DO\",\"THAI\",\"SON\"]\n",
    "ho,dem,_=data\n",
    "print(ho,dem)\n",
    "#cach2:\n",
    "a,b,*z=data\n",
    "print(a,b)"
   ]
  },
  {
   "cell_type": "code",
   "execution_count": 9,
   "metadata": {},
   "outputs": [
    {
     "name": "stdout",
     "output_type": "stream",
     "text": [
      "C R 7\n",
      "0 2 4\n"
     ]
    }
   ],
   "source": [
    "s=\"CR7\"\n",
    "a,b,c=s\n",
    "print(a,b,c)\n",
    "d,e,f=range(0,5,2)\n",
    "print(d,e,f)"
   ]
  },
  {
   "cell_type": "code",
   "execution_count": 10,
   "metadata": {},
   "outputs": [
    {
     "name": "stdout",
     "output_type": "stream",
     "text": [
      "A 65\n",
      "B 66\n",
      "C 67\n"
     ]
    }
   ],
   "source": [
    "a=[['A',65],['B',66],['C',67]]\n",
    "for kitu,ma in a:\n",
    "    print(kitu,ma)"
   ]
  },
  {
   "cell_type": "markdown",
   "metadata": {},
   "source": [
    "# Tuple"
   ]
  },
  {
   "cell_type": "code",
   "execution_count": 19,
   "metadata": {},
   "outputs": [
    {
     "name": "stdout",
     "output_type": "stream",
     "text": [
      "<class 'tuple'>\n",
      "<class 'tuple'>\n",
      "1\n",
      "Son\n",
      "1 2 3 \n",
      "([1, 100, 3], 'SON')\n",
      "(1, 2, 3, 'Do', 'Thai', 'Son')\n"
     ]
    }
   ],
   "source": [
    "a=(1,2,3)\n",
    "b=(\"Do\",\"Thai\",\"Son\")\n",
    "print(type(a))\n",
    "print(type(b))\n",
    "print(a[0])\n",
    "print(b[-1])\n",
    "for i in range(len(a)):\n",
    "    print(a[i],end=\" \")\n",
    "print()\n",
    "# neu trong tuple chua list thi thay doi list do duoc con tuple khong thay doi duoc\n",
    "c=([1,2,3],\"SON\")\n",
    "c[0][1]=100\n",
    "print(c)\n",
    "d=a+b\n",
    "print(d)"
   ]
  },
  {
   "cell_type": "code",
   "execution_count": 21,
   "metadata": {},
   "outputs": [
    {
     "name": "stdout",
     "output_type": "stream",
     "text": [
      "(1, 3, 4)\n",
      "(1, 3, 4)\n"
     ]
    }
   ],
   "source": [
    "# sap xep\n",
    "a=(4,1,3)\n",
    "a=tuple(sorted(a))\n",
    "print(a)\n",
    "#cach 2\n",
    "b=list(a)\n",
    "b.sort()\n",
    "a=tuple(b)\n",
    "print(a)"
   ]
  },
  {
   "cell_type": "markdown",
   "metadata": {},
   "source": [
    "# Map và Filter"
   ]
  },
  {
   "cell_type": "code",
   "execution_count": 25,
   "metadata": {},
   "outputs": [
    {
     "name": "stdout",
     "output_type": "stream",
     "text": [
      "[100, 20, 400, 10]\n",
      "[10000, 400, 160000, 100]\n"
     ]
    }
   ],
   "source": [
    "a=[-100,20,-400,10]\n",
    "a=list(map(abs,a))\n",
    "b=list(map(lambda x:x**2,a))\n",
    "print(a)\n",
    "print(b)"
   ]
  },
  {
   "cell_type": "code",
   "execution_count": 27,
   "metadata": {},
   "outputs": [
    {
     "name": "stdout",
     "output_type": "stream",
     "text": [
      "[2, 4, 6, 8]\n"
     ]
    }
   ],
   "source": [
    "#filter\n",
    "def enven(n):\n",
    "    return n%2==0\n",
    "a=[1,2,3,4,5,6,7,8,9]\n",
    "a=list(filter(enven,a))\n",
    "print(a)"
   ]
  }
 ],
 "metadata": {
  "kernelspec": {
   "display_name": "Python 3",
   "language": "python",
   "name": "python3"
  },
  "language_info": {
   "codemirror_mode": {
    "name": "ipython",
    "version": 3
   },
   "file_extension": ".py",
   "mimetype": "text/x-python",
   "name": "python",
   "nbconvert_exporter": "python",
   "pygments_lexer": "ipython3",
   "version": "undefined.undefined.undefined"
  }
 },
 "nbformat": 4,
 "nbformat_minor": 2
}
